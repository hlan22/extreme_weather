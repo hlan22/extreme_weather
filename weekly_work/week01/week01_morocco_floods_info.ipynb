{
 "cells": [
  {
   "cell_type": "markdown",
   "id": "c72de3c3-eab0-4d55-bf72-a9943f39d0c2",
   "metadata": {},
   "source": [
    "## Floods in Morocco\n",
    "#### Heidi Lantz"
   ]
  },
  {
   "cell_type": "markdown",
   "id": "e385f8e2-09fc-48fc-bbec-48916d834930",
   "metadata": {},
   "source": [
    "The article can be found at:\n",
    "\n",
    "[https://www.sciencedirect.com/science/article/pii/S2212094723000099#da1]\n",
    "\n",
    "* Released in June 2023"
   ]
  },
  {
   "cell_type": "markdown",
   "id": "b2382b82-efb9-4b99-92a4-f8e7968da799",
   "metadata": {},
   "source": [
    "### Data\n",
    "They used 3 datasets for the following info:\n",
    "\n",
    "1. ERA5 reanalysis data\n",
    "  * Found at: [https://cds.climate.copernicus.eu/cdsapp#!/dataset/10.24381/cds.adbb2d47?tab=overview]\n",
    "  * Considered from 1979-2020\n",
    "  * Variables:\n",
    "    * **precipitation** with a spatial resolution of 0.25* * 0.25*\n",
    "        * total precipitation?\n",
    "        * mean total precipitation rate?\n",
    "    * **sea surface temperature** (SST)\n",
    "        * temp and pressure\n",
    "    * **geopotential height** at 500hPa (Z500)\n",
    "        * other?\n",
    "    * **wind speed** at 200 hPa (W200)\n",
    "        * under popular:\n",
    "        * 10m u-component of wind\n",
    "        * 10m v-component of wind\n",
    "    * **total column water** (TCW)\n",
    "        * other\n",
    "    * **integrated water vapor transport** (IVT) between 1000 and 100hPa\n",
    "        * ?\n",
    "    * **daily Ertel potential velocity** (PV) at the 320K isentropic level\n",
    "    * all at a 1* * 1* spatial resolution\n",
    "\n",
    "2. Teleconnection Indices - NAO index\n",
    "  * Found at: [https://www.cpc.ncep.noaa.gov/products/precip/CWlink/daily_ao_index/history/history.shtml]\n",
    "\n",
    "3. Teleconnection Indices - MJO index\n",
    "  * Found at: [https://www.psl.noaa.gov/mjo/mjoindex/]"
   ]
  },
  {
   "cell_type": "markdown",
   "id": "2320b3d0-afac-4411-b2ac-3f3b33feb2c5",
   "metadata": {},
   "source": [
    "### Background Information\n",
    "---\n",
    "* **Teleconnection pattern**\n",
    "  * Significant relationships or links between weather phenomena at widely separated locations on earth, which typically entail climate patterns that span thousands of miles\n",
    "  * Teleconnection patterns are caused by changes in the way air moves around the atmosphere. The changes may last from a few weeks to many months\n",
    "  * They are natural. However, they may be changed as Earth's climate warms\n",
    "---\n",
    "* **Climate Indices**\n",
    "  * Simple diagnostic quantities that are used to characterize an aspect of a geophysical system such as a circulation pattern.\n",
    "  * They track droughts, ENSO events, wind patterns, internal modes of climate variability, and extreme events like wildfires and heatwaves\n",
    "  * **Indices** referring to Index, which is an indicator, sign, or measure of something.\n",
    "  * **Geophysics** refers to the subject of natural science concerned with the Earth, simply put.\n",
    "---\n",
    "* **Teleconnection Indices**\n",
    "  * Calculated by first projecting the standardized monthly anomalies on the teleconnection patterns corresponding to that month (8 or 9 patterns are seen in each month) The indices are then solved for simultaneously using a Least-Squares approach\n",
    "---\n",
    "* **Oscillation Patterns**:\n",
    "* **ENSO**\n",
    "  * El Nino-Southern Oscillation\n",
    "  * recurring climate pattern involving changes in the temperature waters in the central and eastern tropical Pacific Ocean\n",
    "  * Morocco is in the northwest corner of Africa and therefore I doubt is affected by it\n",
    "  * The effects of ENSO are often called teleconnections, emphasizing that changing conditions in one part of the world can affect areas far from the source\n",
    "  * The impacts of ENSO on the United States are most noticeable in the cold season. The Climate Prediction center discusses how weather patterns are affected by ENSO.\n",
    "* **MO**\n",
    "  * Mediterranean Oscillation\n",
    "* **NAO**\n",
    "  * North Atlantic Oscillation\n",
    "---\n",
    "* **Spatio-Temporal Variability**- used in data analysis when data is collected across both space and time\n",
    "* **Stormtrack**: a course followed by cyclones or storm systems as they move across the land or sea."
   ]
  },
  {
   "cell_type": "markdown",
   "id": "ec2c3f44-c086-4f54-9bca-08f2122cf3ea",
   "metadata": {},
   "source": [
    "### Motivation behind project\n",
    "* Floods!\n",
    "  * lead to numerous casualties and significant material losses\n",
    "  * Driver of this is... Extreme precipitation!\n",
    "  * Understanding extreme precipitation events (EPEs) is what helps us to accurately predict, assess and mitigate the risk of floods.\n",
    "  * The physical drivers of EPEs are poorly known (more research needs to be done as such :) )\n",
    "---\n",
    "* There have been many studies on how the winter precipitation is attributed to NAO\n",
    "* HOWEVER! Extreme precipitation is often characterized by a high spatio-temporal variability\n",
    "* So it is only moderately correlated to these circulation patterns\n",
    "* We end up getting very different results for the northern and southern regions of Morocco (from other papers!)\n",
    "* Therefore, each region will have strongly different climate drivers of extreme precipitations\n",
    "* This stark difference in Morocco is what makes this an important study, as well that it is a poor country in Africa that need 'help'.\n",
    "* Therefore, we want to assess the spatial distribution and drivers of EPEs in Morocco.\n",
    "* We do this by introducing a regionalization procedure that partitions Morocco into several spatially homogeneous regions with similar timing of extreme precipitation"
   ]
  },
  {
   "cell_type": "markdown",
   "id": "b68b2236-dd81-455e-8b02-fdb522cb2b96",
   "metadata": {},
   "source": [
    "### Research question\n",
    "* What are the physical drivers of Extreme Precipitation Events in Morocco?\n",
    "  * This will help us to determine causes and be more prepared for floods"
   ]
  },
  {
   "cell_type": "markdown",
   "id": "12383834-6207-47a4-a44a-2094e73f49db",
   "metadata": {},
   "source": [
    "### Short Summary\n",
    "* There are oscillation patters. These create teleconnection patterns, which is when weather is linked between two different places on Earth. We can make teleconnection indices, which help us understand these patterns.\n",
    "* However, it is often assumed that these patterns affect the Extreme Precipitation Events(EPEs) in Morocco \"uniformly\". Yet each region within Morocco has different drivers for their EPEs, and we cannot assume that it works the same across the whole country. Therefore, we want to find the spatial distribution and drivers of EPEs in Morocco."
   ]
  },
  {
   "cell_type": "markdown",
   "id": "2ddfceed-d05c-4f96-a382-787bf3ee337f",
   "metadata": {},
   "source": [
    "### Now, Let's Load the Data!"
   ]
  },
  {
   "cell_type": "markdown",
   "id": "a846f85a-37ef-4ee8-96e9-207deb40324f",
   "metadata": {},
   "source": []
  },
  {
   "cell_type": "markdown",
   "id": "88b2d918-e4c6-4bb7-8b5e-8d9d5f4e4c98",
   "metadata": {},
   "source": []
  },
  {
   "cell_type": "markdown",
   "id": "80d7a61e-ab79-48b6-9ac6-b7f3ca49e034",
   "metadata": {},
   "source": [
    "### Future interests\n",
    "* Teleconnection patterns are subject to change as Earth's climate warms, so it would be interesting and important to continue this study and ensure/observe accurate information over time.\n",
    "* Similarly, Extreme Precipitation Events have generally increased in frequency and intensity due to anthropogenic global warming, and will continue to do so in the future\n",
    "* A study found that ENSO had limited impacts on the 2015-2016 droughts in Morocco, but other teleconnections, specifically the NAO and MO had greater impacts! So maybe observe how the oscillations affect the rainfall (instead of droughts).\n",
    "* Interest in how climate varies across countries such as Canada (considering we have temperature rainforests(Vancouver) and deserts (Okanogan)), it would be cool to look at the different EPE regions in countries to help understand if that helps to explain the extreme weather events of flooding\n",
    "* Notes on what they recommend and mention\n",
    "* They want to use their results to:\n",
    "  * assess EPEs impacts on economy and citizens\n",
    "  * improve understanding of hydrological implication of EP\n",
    "  * assess the regionalization of physical drivers for OTHER weather extremes like cold and heat waves (in Morocco)\n",
    "  * use results as a foundation to assess the impacts of climate change on EPEs\n",
    "  * exploit results as a feature selection step in the development of statistical downscaling models for EP forecasts "
   ]
  },
  {
   "cell_type": "markdown",
   "id": "5f572b07-489b-4d1c-8395-25731ef848d2",
   "metadata": {},
   "source": [
    "#\n",
    "\n",
    "#\n",
    "\n",
    "#"
   ]
  },
  {
   "cell_type": "markdown",
   "id": "1049decf-b88b-4866-81f1-4ff2a6aace49",
   "metadata": {},
   "source": [
    "### Presentation points\n",
    "\n",
    "#### Introduction\n",
    "- Extreme rainfall events in Morocco, Accepted and Released in 2023\n",
    "- To help spread knowledge about flooding through Extreme Precipitation Events\n",
    "  - Important since it is a poor country, \n",
    "- The interesting part of it is that you cannot assume each region has similar drivers\n",
    "- This paper finds significant results of different regions within Morocco\n",
    "\n",
    "#### Research Question\n",
    "- This gives us the main purpose of the paper, which asks \"What are the physical drivers of Extreme Precipitation Events in Morocco, and how do they differ regionally?\""
   ]
  },
  {
   "cell_type": "markdown",
   "id": "55489f12-6568-42f2-a4cd-6016ac8fa0d1",
   "metadata": {},
   "source": [
    "#\n",
    "\n",
    "#"
   ]
  },
  {
   "cell_type": "markdown",
   "id": "42990191-f82d-4274-b560-778035cba0bf",
   "metadata": {},
   "source": [
    "### GRIB info\n",
    "* **GRI**dded **B**inary   OR\n",
    "* **G**eneral **R**egularly-distributed **I**nformation in **B**inary form\n",
    "* A concise data format commonly used in meteorology\n",
    "  * to store historical weather data\n",
    "  * and to forecast weather data\n",
    " \n",
    "* link here: [https://en.wikipedia.org/wiki/GRIB#:~:text=GRIB%20(GRIdded%20Binary%20or%20General,historical%20and%20forecast%20weather%20data.] "
   ]
  },
  {
   "cell_type": "code",
   "execution_count": null,
   "id": "b58a3868-9561-44a3-b5fe-ab4dd16aa9bb",
   "metadata": {},
   "outputs": [],
   "source": []
  }
 ],
 "metadata": {
  "kernelspec": {
   "display_name": "R",
   "language": "R",
   "name": "ir"
  },
  "language_info": {
   "codemirror_mode": "r",
   "file_extension": ".r",
   "mimetype": "text/x-r-source",
   "name": "R",
   "pygments_lexer": "r",
   "version": "4.1.3"
  }
 },
 "nbformat": 4,
 "nbformat_minor": 5
}
